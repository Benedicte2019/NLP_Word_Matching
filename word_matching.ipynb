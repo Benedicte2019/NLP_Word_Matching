{
 "cells": [
  {
   "cell_type": "markdown",
   "id": "5ce391b3",
   "metadata": {},
   "source": [
    "#### Importing libraries"
   ]
  },
  {
   "cell_type": "code",
   "execution_count": 18,
   "id": "b398823a",
   "metadata": {},
   "outputs": [],
   "source": [
    "import pandas as pd\n",
    "import numpy as np\n",
    "import matplotlib.pyplot as plt\n",
    "# %matplotlib inline\n",
    "import nltk\n",
    "from nltk.corpus import stopwords\n",
    "import string\n",
    "import re\n",
    "from fuzzywuzzy import process\n",
    "import fuzzymatcher\n",
    "import warnings\n",
    "from pandas.core.common import SettingWithCopyWarning\n",
    "warnings.simplefilter(action=\"ignore\", category=SettingWithCopyWarning)"
   ]
  },
  {
   "cell_type": "markdown",
   "id": "fe1fdf39",
   "metadata": {},
   "source": [
    "#### Reading files"
   ]
  },
  {
   "cell_type": "code",
   "execution_count": 19,
   "id": "201b78e4",
   "metadata": {},
   "outputs": [],
   "source": [
    "## Readiing files\n",
    "df1 = pd.read_csv('source_1.csv')\n",
    "df2 = pd.read_csv('source_2.csv')"
   ]
  },
  {
   "cell_type": "code",
   "execution_count": 20,
   "id": "b7f60e7b",
   "metadata": {
    "scrolled": true
   },
   "outputs": [
    {
     "data": {
      "text/html": [
       "<div>\n",
       "<style scoped>\n",
       "    .dataframe tbody tr th:only-of-type {\n",
       "        vertical-align: middle;\n",
       "    }\n",
       "\n",
       "    .dataframe tbody tr th {\n",
       "        vertical-align: top;\n",
       "    }\n",
       "\n",
       "    .dataframe thead th {\n",
       "        text-align: right;\n",
       "    }\n",
       "</style>\n",
       "<table border=\"1\" class=\"dataframe\">\n",
       "  <thead>\n",
       "    <tr style=\"text-align: right;\">\n",
       "      <th></th>\n",
       "      <th>id</th>\n",
       "      <th>name</th>\n",
       "    </tr>\n",
       "  </thead>\n",
       "  <tbody>\n",
       "    <tr>\n",
       "      <th>0</th>\n",
       "      <td>0</td>\n",
       "      <td>Horses, asses, mules and hinnies; live, pure-b...</td>\n",
       "    </tr>\n",
       "    <tr>\n",
       "      <th>1</th>\n",
       "      <td>1</td>\n",
       "      <td>Horses; live, pure-bred breeding animals</td>\n",
       "    </tr>\n",
       "    <tr>\n",
       "      <th>2</th>\n",
       "      <td>2</td>\n",
       "      <td>Horses; live, other than pure-bred breeding an...</td>\n",
       "    </tr>\n",
       "    <tr>\n",
       "      <th>3</th>\n",
       "      <td>4</td>\n",
       "      <td>Horses, asses, mules and hinnies; live, other ...</td>\n",
       "    </tr>\n",
       "    <tr>\n",
       "      <th>4</th>\n",
       "      <td>5</td>\n",
       "      <td>Bovine animals; live, pure-bred breeding animals</td>\n",
       "    </tr>\n",
       "  </tbody>\n",
       "</table>\n",
       "</div>"
      ],
      "text/plain": [
       "   id                                               name\n",
       "0   0  Horses, asses, mules and hinnies; live, pure-b...\n",
       "1   1           Horses; live, pure-bred breeding animals\n",
       "2   2  Horses; live, other than pure-bred breeding an...\n",
       "3   4  Horses, asses, mules and hinnies; live, other ...\n",
       "4   5   Bovine animals; live, pure-bred breeding animals"
      ]
     },
     "execution_count": 20,
     "metadata": {},
     "output_type": "execute_result"
    }
   ],
   "source": [
    "df1.head()"
   ]
  },
  {
   "cell_type": "code",
   "execution_count": 21,
   "id": "4a6c9f53",
   "metadata": {
    "scrolled": true
   },
   "outputs": [
    {
     "data": {
      "text/html": [
       "<div>\n",
       "<style scoped>\n",
       "    .dataframe tbody tr th:only-of-type {\n",
       "        vertical-align: middle;\n",
       "    }\n",
       "\n",
       "    .dataframe tbody tr th {\n",
       "        vertical-align: top;\n",
       "    }\n",
       "\n",
       "    .dataframe thead th {\n",
       "        text-align: right;\n",
       "    }\n",
       "</style>\n",
       "<table border=\"1\" class=\"dataframe\">\n",
       "  <thead>\n",
       "    <tr style=\"text-align: right;\">\n",
       "      <th></th>\n",
       "      <th>id</th>\n",
       "      <th>name</th>\n",
       "    </tr>\n",
       "  </thead>\n",
       "  <tbody>\n",
       "    <tr>\n",
       "      <th>0</th>\n",
       "      <td>0</td>\n",
       "      <td>leveillula lactucae-serriolae</td>\n",
       "    </tr>\n",
       "    <tr>\n",
       "      <th>1</th>\n",
       "      <td>1</td>\n",
       "      <td>podosphaera aphanis</td>\n",
       "    </tr>\n",
       "    <tr>\n",
       "      <th>2</th>\n",
       "      <td>2</td>\n",
       "      <td>lathyrus czeczottianus</td>\n",
       "    </tr>\n",
       "    <tr>\n",
       "      <th>3</th>\n",
       "      <td>3</td>\n",
       "      <td>crocus biflorus subsp. caricus</td>\n",
       "    </tr>\n",
       "    <tr>\n",
       "      <th>4</th>\n",
       "      <td>4</td>\n",
       "      <td>hordeum brevisubulatum</td>\n",
       "    </tr>\n",
       "  </tbody>\n",
       "</table>\n",
       "</div>"
      ],
      "text/plain": [
       "   id                            name\n",
       "0   0   leveillula lactucae-serriolae\n",
       "1   1             podosphaera aphanis\n",
       "2   2          lathyrus czeczottianus\n",
       "3   3  crocus biflorus subsp. caricus\n",
       "4   4          hordeum brevisubulatum"
      ]
     },
     "execution_count": 21,
     "metadata": {},
     "output_type": "execute_result"
    }
   ],
   "source": [
    "df2.head()"
   ]
  },
  {
   "cell_type": "code",
   "execution_count": 22,
   "id": "08d28050",
   "metadata": {
    "scrolled": true
   },
   "outputs": [
    {
     "name": "stdout",
     "output_type": "stream",
     "text": [
      "947\n"
     ]
    }
   ],
   "source": [
    "print(df1['id'].duplicated().sum())"
   ]
  },
  {
   "cell_type": "code",
   "execution_count": 23,
   "id": "3696a951",
   "metadata": {},
   "outputs": [
    {
     "data": {
      "text/html": [
       "<div>\n",
       "<style scoped>\n",
       "    .dataframe tbody tr th:only-of-type {\n",
       "        vertical-align: middle;\n",
       "    }\n",
       "\n",
       "    .dataframe tbody tr th {\n",
       "        vertical-align: top;\n",
       "    }\n",
       "\n",
       "    .dataframe thead th {\n",
       "        text-align: right;\n",
       "    }\n",
       "</style>\n",
       "<table border=\"1\" class=\"dataframe\">\n",
       "  <thead>\n",
       "    <tr style=\"text-align: right;\">\n",
       "      <th></th>\n",
       "      <th>id</th>\n",
       "      <th>name</th>\n",
       "    </tr>\n",
       "  </thead>\n",
       "  <tbody>\n",
       "    <tr>\n",
       "      <th>0</th>\n",
       "      <td>0</td>\n",
       "      <td>Horses, asses, mules and hinnies; live, pure-b...</td>\n",
       "    </tr>\n",
       "    <tr>\n",
       "      <th>1580</th>\n",
       "      <td>0</td>\n",
       "      <td>Wood in the rough, even peeled, or roughly squ...</td>\n",
       "    </tr>\n",
       "    <tr>\n",
       "      <th>1</th>\n",
       "      <td>1</td>\n",
       "      <td>Horses; live, pure-bred breeding animals</td>\n",
       "    </tr>\n",
       "    <tr>\n",
       "      <th>1581</th>\n",
       "      <td>1</td>\n",
       "      <td>Wood in the rough, even peeled, or roughly squ...</td>\n",
       "    </tr>\n",
       "    <tr>\n",
       "      <th>2</th>\n",
       "      <td>2</td>\n",
       "      <td>Horses; live, other than pure-bred breeding an...</td>\n",
       "    </tr>\n",
       "    <tr>\n",
       "      <th>...</th>\n",
       "      <td>...</td>\n",
       "      <td>...</td>\n",
       "    </tr>\n",
       "    <tr>\n",
       "      <th>2766</th>\n",
       "      <td>2104</td>\n",
       "      <td>Peaches, otherwise prepared or preserved</td>\n",
       "    </tr>\n",
       "    <tr>\n",
       "      <th>1574</th>\n",
       "      <td>2107</td>\n",
       "      <td>Parts of lawn mowers f/harvesting/threshing, etc</td>\n",
       "    </tr>\n",
       "    <tr>\n",
       "      <th>2767</th>\n",
       "      <td>2107</td>\n",
       "      <td>Mixtures of fruits, prepared or preserved</td>\n",
       "    </tr>\n",
       "    <tr>\n",
       "      <th>1575</th>\n",
       "      <td>2108</td>\n",
       "      <td>Machinery for processing milk</td>\n",
       "    </tr>\n",
       "    <tr>\n",
       "      <th>2768</th>\n",
       "      <td>2108</td>\n",
       "      <td>Mixtures of fruits, otherwise prepared or pres...</td>\n",
       "    </tr>\n",
       "  </tbody>\n",
       "</table>\n",
       "<p>1894 rows × 2 columns</p>\n",
       "</div>"
      ],
      "text/plain": [
       "        id                                               name\n",
       "0        0  Horses, asses, mules and hinnies; live, pure-b...\n",
       "1580     0  Wood in the rough, even peeled, or roughly squ...\n",
       "1        1           Horses; live, pure-bred breeding animals\n",
       "1581     1  Wood in the rough, even peeled, or roughly squ...\n",
       "2        2  Horses; live, other than pure-bred breeding an...\n",
       "...    ...                                                ...\n",
       "2766  2104           Peaches, otherwise prepared or preserved\n",
       "1574  2107   Parts of lawn mowers f/harvesting/threshing, etc\n",
       "2767  2107          Mixtures of fruits, prepared or preserved\n",
       "1575  2108                      Machinery for processing milk\n",
       "2768  2108  Mixtures of fruits, otherwise prepared or pres...\n",
       "\n",
       "[1894 rows x 2 columns]"
      ]
     },
     "execution_count": 23,
     "metadata": {},
     "output_type": "execute_result"
    }
   ],
   "source": [
    "pd.concat(g for _, g in df1.groupby(\"id\") if len(g) > 1)"
   ]
  },
  {
   "cell_type": "code",
   "execution_count": 24,
   "id": "0db266dd",
   "metadata": {},
   "outputs": [],
   "source": [
    "df1['id'] = df1.index"
   ]
  },
  {
   "cell_type": "code",
   "execution_count": 25,
   "id": "e6cb7211",
   "metadata": {},
   "outputs": [],
   "source": [
    "df2['id'] = df2.index"
   ]
  },
  {
   "cell_type": "code",
   "execution_count": 26,
   "id": "6d12a938",
   "metadata": {},
   "outputs": [
    {
     "data": {
      "text/plain": [
       "0"
      ]
     },
     "execution_count": 26,
     "metadata": {},
     "output_type": "execute_result"
    }
   ],
   "source": [
    "df1['id'].duplicated().sum()"
   ]
  },
  {
   "cell_type": "markdown",
   "id": "dbc01184",
   "metadata": {},
   "source": [
    "#### Data preprocessing"
   ]
  },
  {
   "cell_type": "code",
   "execution_count": 27,
   "id": "939aecbf",
   "metadata": {},
   "outputs": [
    {
     "name": "stdout",
     "output_type": "stream",
     "text": [
      "duplicates in df1 are: 656\n",
      "duplicates in df2 are: 69\n"
     ]
    }
   ],
   "source": [
    "# code to count number of duplicates in df1 and df2\n",
    "print(\"duplicates in df1 are:\", df1['name'].duplicated().sum())\n",
    "print(\"duplicates in df2 are:\", df2['name'].duplicated().sum())"
   ]
  },
  {
   "cell_type": "code",
   "execution_count": 28,
   "id": "40383af6",
   "metadata": {},
   "outputs": [],
   "source": [
    "# remove duplicates from df1 and df2\n",
    "# to avoid irrelevant redundancy\n",
    "df1_unique = df1.drop_duplicates(subset = \"name\", keep='first')\n",
    "df2_unique = df2.drop_duplicates(subset = \"name\", keep = 'first')"
   ]
  },
  {
   "cell_type": "code",
   "execution_count": 29,
   "id": "6c82d72e",
   "metadata": {
    "scrolled": true
   },
   "outputs": [
    {
     "data": {
      "text/plain": [
       "(12582, 2)"
      ]
     },
     "execution_count": 29,
     "metadata": {},
     "output_type": "execute_result"
    }
   ],
   "source": [
    "df1_unique.shape"
   ]
  },
  {
   "cell_type": "code",
   "execution_count": 30,
   "id": "2f36fd8c",
   "metadata": {},
   "outputs": [
    {
     "data": {
      "text/plain": [
       "(13238, 2)"
      ]
     },
     "execution_count": 30,
     "metadata": {},
     "output_type": "execute_result"
    }
   ],
   "source": [
    "df1.shape"
   ]
  },
  {
   "cell_type": "code",
   "execution_count": 31,
   "id": "3a9a5480",
   "metadata": {},
   "outputs": [
    {
     "data": {
      "text/html": [
       "<div>\n",
       "<style scoped>\n",
       "    .dataframe tbody tr th:only-of-type {\n",
       "        vertical-align: middle;\n",
       "    }\n",
       "\n",
       "    .dataframe tbody tr th {\n",
       "        vertical-align: top;\n",
       "    }\n",
       "\n",
       "    .dataframe thead th {\n",
       "        text-align: right;\n",
       "    }\n",
       "</style>\n",
       "<table border=\"1\" class=\"dataframe\">\n",
       "  <thead>\n",
       "    <tr style=\"text-align: right;\">\n",
       "      <th></th>\n",
       "      <th>id</th>\n",
       "      <th>name</th>\n",
       "      <th>name_nonpunct</th>\n",
       "    </tr>\n",
       "  </thead>\n",
       "  <tbody>\n",
       "    <tr>\n",
       "      <th>0</th>\n",
       "      <td>0</td>\n",
       "      <td>Horses, asses, mules and hinnies; live, pure-b...</td>\n",
       "      <td>Horses asses mules and hinnies live purebred b...</td>\n",
       "    </tr>\n",
       "    <tr>\n",
       "      <th>1</th>\n",
       "      <td>1</td>\n",
       "      <td>Horses; live, pure-bred breeding animals</td>\n",
       "      <td>Horses live purebred breeding animals</td>\n",
       "    </tr>\n",
       "    <tr>\n",
       "      <th>2</th>\n",
       "      <td>2</td>\n",
       "      <td>Horses; live, other than pure-bred breeding an...</td>\n",
       "      <td>Horses live other than purebred breeding animals</td>\n",
       "    </tr>\n",
       "    <tr>\n",
       "      <th>3</th>\n",
       "      <td>3</td>\n",
       "      <td>Horses, asses, mules and hinnies; live, other ...</td>\n",
       "      <td>Horses asses mules and hinnies live other than...</td>\n",
       "    </tr>\n",
       "    <tr>\n",
       "      <th>4</th>\n",
       "      <td>4</td>\n",
       "      <td>Bovine animals; live, pure-bred breeding animals</td>\n",
       "      <td>Bovine animals live purebred breeding animals</td>\n",
       "    </tr>\n",
       "  </tbody>\n",
       "</table>\n",
       "</div>"
      ],
      "text/plain": [
       "   id                                               name  \\\n",
       "0   0  Horses, asses, mules and hinnies; live, pure-b...   \n",
       "1   1           Horses; live, pure-bred breeding animals   \n",
       "2   2  Horses; live, other than pure-bred breeding an...   \n",
       "3   3  Horses, asses, mules and hinnies; live, other ...   \n",
       "4   4   Bovine animals; live, pure-bred breeding animals   \n",
       "\n",
       "                                       name_nonpunct  \n",
       "0  Horses asses mules and hinnies live purebred b...  \n",
       "1              Horses live purebred breeding animals  \n",
       "2   Horses live other than purebred breeding animals  \n",
       "3  Horses asses mules and hinnies live other than...  \n",
       "4      Bovine animals live purebred breeding animals  "
      ]
     },
     "execution_count": 31,
     "metadata": {},
     "output_type": "execute_result"
    }
   ],
   "source": [
    "# remove punctuation\n",
    "def remove_punct(text):\n",
    "    text_nopunct = \"\".join([char for char in text if char not in string.punctuation])\n",
    "    return text_nopunct\n",
    "df1_unique['name_nonpunct'] = df1_unique['name'].apply(lambda x: remove_punct(x))\n",
    "df1_unique.head()"
   ]
  },
  {
   "cell_type": "code",
   "execution_count": 32,
   "id": "2248c6fa",
   "metadata": {},
   "outputs": [],
   "source": [
    "# getting stop words\n",
    "stopword = nltk.corpus.stopwords.words('english')"
   ]
  },
  {
   "cell_type": "code",
   "execution_count": 33,
   "id": "ea834935",
   "metadata": {},
   "outputs": [
    {
     "data": {
      "text/html": [
       "<div>\n",
       "<style scoped>\n",
       "    .dataframe tbody tr th:only-of-type {\n",
       "        vertical-align: middle;\n",
       "    }\n",
       "\n",
       "    .dataframe tbody tr th {\n",
       "        vertical-align: top;\n",
       "    }\n",
       "\n",
       "    .dataframe thead th {\n",
       "        text-align: right;\n",
       "    }\n",
       "</style>\n",
       "<table border=\"1\" class=\"dataframe\">\n",
       "  <thead>\n",
       "    <tr style=\"text-align: right;\">\n",
       "      <th></th>\n",
       "      <th>id</th>\n",
       "      <th>name</th>\n",
       "      <th>name_nonpunct</th>\n",
       "      <th>tokenized</th>\n",
       "    </tr>\n",
       "  </thead>\n",
       "  <tbody>\n",
       "    <tr>\n",
       "      <th>0</th>\n",
       "      <td>0</td>\n",
       "      <td>Horses, asses, mules and hinnies; live, pure-b...</td>\n",
       "      <td>Horses asses mules and hinnies live purebred b...</td>\n",
       "      <td>[horses, asses, mules, and, hinnies, live, pur...</td>\n",
       "    </tr>\n",
       "    <tr>\n",
       "      <th>1</th>\n",
       "      <td>1</td>\n",
       "      <td>Horses; live, pure-bred breeding animals</td>\n",
       "      <td>Horses live purebred breeding animals</td>\n",
       "      <td>[horses, live, purebred, breeding, animals]</td>\n",
       "    </tr>\n",
       "    <tr>\n",
       "      <th>2</th>\n",
       "      <td>2</td>\n",
       "      <td>Horses; live, other than pure-bred breeding an...</td>\n",
       "      <td>Horses live other than purebred breeding animals</td>\n",
       "      <td>[horses, live, other, than, purebred, breeding...</td>\n",
       "    </tr>\n",
       "    <tr>\n",
       "      <th>3</th>\n",
       "      <td>3</td>\n",
       "      <td>Horses, asses, mules and hinnies; live, other ...</td>\n",
       "      <td>Horses asses mules and hinnies live other than...</td>\n",
       "      <td>[horses, asses, mules, and, hinnies, live, oth...</td>\n",
       "    </tr>\n",
       "    <tr>\n",
       "      <th>4</th>\n",
       "      <td>4</td>\n",
       "      <td>Bovine animals; live, pure-bred breeding animals</td>\n",
       "      <td>Bovine animals live purebred breeding animals</td>\n",
       "      <td>[bovine, animals, live, purebred, breeding, an...</td>\n",
       "    </tr>\n",
       "  </tbody>\n",
       "</table>\n",
       "</div>"
      ],
      "text/plain": [
       "   id                                               name  \\\n",
       "0   0  Horses, asses, mules and hinnies; live, pure-b...   \n",
       "1   1           Horses; live, pure-bred breeding animals   \n",
       "2   2  Horses; live, other than pure-bred breeding an...   \n",
       "3   3  Horses, asses, mules and hinnies; live, other ...   \n",
       "4   4   Bovine animals; live, pure-bred breeding animals   \n",
       "\n",
       "                                       name_nonpunct  \\\n",
       "0  Horses asses mules and hinnies live purebred b...   \n",
       "1              Horses live purebred breeding animals   \n",
       "2   Horses live other than purebred breeding animals   \n",
       "3  Horses asses mules and hinnies live other than...   \n",
       "4      Bovine animals live purebred breeding animals   \n",
       "\n",
       "                                           tokenized  \n",
       "0  [horses, asses, mules, and, hinnies, live, pur...  \n",
       "1        [horses, live, purebred, breeding, animals]  \n",
       "2  [horses, live, other, than, purebred, breeding...  \n",
       "3  [horses, asses, mules, and, hinnies, live, oth...  \n",
       "4  [bovine, animals, live, purebred, breeding, an...  "
      ]
     },
     "execution_count": 33,
     "metadata": {},
     "output_type": "execute_result"
    }
   ],
   "source": [
    "# Tokenize words\n",
    "def tokenize(text):\n",
    "    tokens = re.split('\\W+', text)\n",
    "    return tokens\n",
    "df1_unique['tokenized'] = df1_unique['name_nonpunct'].apply(lambda x: tokenize(x.lower()))\n",
    "df1_unique.head()"
   ]
  },
  {
   "cell_type": "code",
   "execution_count": 34,
   "id": "9e30a973",
   "metadata": {
    "scrolled": true
   },
   "outputs": [
    {
     "data": {
      "text/html": [
       "<div>\n",
       "<style scoped>\n",
       "    .dataframe tbody tr th:only-of-type {\n",
       "        vertical-align: middle;\n",
       "    }\n",
       "\n",
       "    .dataframe tbody tr th {\n",
       "        vertical-align: top;\n",
       "    }\n",
       "\n",
       "    .dataframe thead th {\n",
       "        text-align: right;\n",
       "    }\n",
       "</style>\n",
       "<table border=\"1\" class=\"dataframe\">\n",
       "  <thead>\n",
       "    <tr style=\"text-align: right;\">\n",
       "      <th></th>\n",
       "      <th>id</th>\n",
       "      <th>name</th>\n",
       "      <th>name_nonpunct</th>\n",
       "      <th>tokenized</th>\n",
       "      <th>text_nonstop</th>\n",
       "    </tr>\n",
       "  </thead>\n",
       "  <tbody>\n",
       "    <tr>\n",
       "      <th>0</th>\n",
       "      <td>0</td>\n",
       "      <td>Horses, asses, mules and hinnies; live, pure-b...</td>\n",
       "      <td>Horses asses mules and hinnies live purebred b...</td>\n",
       "      <td>[horses, asses, mules, and, hinnies, live, pur...</td>\n",
       "      <td>horses asses mules hinnies live purebred breed...</td>\n",
       "    </tr>\n",
       "    <tr>\n",
       "      <th>1</th>\n",
       "      <td>1</td>\n",
       "      <td>Horses; live, pure-bred breeding animals</td>\n",
       "      <td>Horses live purebred breeding animals</td>\n",
       "      <td>[horses, live, purebred, breeding, animals]</td>\n",
       "      <td>horses live purebred breeding animals</td>\n",
       "    </tr>\n",
       "    <tr>\n",
       "      <th>2</th>\n",
       "      <td>2</td>\n",
       "      <td>Horses; live, other than pure-bred breeding an...</td>\n",
       "      <td>Horses live other than purebred breeding animals</td>\n",
       "      <td>[horses, live, other, than, purebred, breeding...</td>\n",
       "      <td>horses live purebred breeding animals</td>\n",
       "    </tr>\n",
       "    <tr>\n",
       "      <th>3</th>\n",
       "      <td>3</td>\n",
       "      <td>Horses, asses, mules and hinnies; live, other ...</td>\n",
       "      <td>Horses asses mules and hinnies live other than...</td>\n",
       "      <td>[horses, asses, mules, and, hinnies, live, oth...</td>\n",
       "      <td>horses asses mules hinnies live purebred breed...</td>\n",
       "    </tr>\n",
       "    <tr>\n",
       "      <th>4</th>\n",
       "      <td>4</td>\n",
       "      <td>Bovine animals; live, pure-bred breeding animals</td>\n",
       "      <td>Bovine animals live purebred breeding animals</td>\n",
       "      <td>[bovine, animals, live, purebred, breeding, an...</td>\n",
       "      <td>bovine animals live purebred breeding animals</td>\n",
       "    </tr>\n",
       "  </tbody>\n",
       "</table>\n",
       "</div>"
      ],
      "text/plain": [
       "   id                                               name  \\\n",
       "0   0  Horses, asses, mules and hinnies; live, pure-b...   \n",
       "1   1           Horses; live, pure-bred breeding animals   \n",
       "2   2  Horses; live, other than pure-bred breeding an...   \n",
       "3   3  Horses, asses, mules and hinnies; live, other ...   \n",
       "4   4   Bovine animals; live, pure-bred breeding animals   \n",
       "\n",
       "                                       name_nonpunct  \\\n",
       "0  Horses asses mules and hinnies live purebred b...   \n",
       "1              Horses live purebred breeding animals   \n",
       "2   Horses live other than purebred breeding animals   \n",
       "3  Horses asses mules and hinnies live other than...   \n",
       "4      Bovine animals live purebred breeding animals   \n",
       "\n",
       "                                           tokenized  \\\n",
       "0  [horses, asses, mules, and, hinnies, live, pur...   \n",
       "1        [horses, live, purebred, breeding, animals]   \n",
       "2  [horses, live, other, than, purebred, breeding...   \n",
       "3  [horses, asses, mules, and, hinnies, live, oth...   \n",
       "4  [bovine, animals, live, purebred, breeding, an...   \n",
       "\n",
       "                                        text_nonstop  \n",
       "0  horses asses mules hinnies live purebred breed...  \n",
       "1              horses live purebred breeding animals  \n",
       "2              horses live purebred breeding animals  \n",
       "3  horses asses mules hinnies live purebred breed...  \n",
       "4      bovine animals live purebred breeding animals  "
      ]
     },
     "execution_count": 34,
     "metadata": {},
     "output_type": "execute_result"
    }
   ],
   "source": [
    "# remove stop words\n",
    "def remove_stopwords(tokenized_list):\n",
    "    text = [word for word in tokenized_list if word not in stopword]\n",
    "    text2 = \" \".join(text)\n",
    "    return text2\n",
    "df1_unique['text_nonstop'] = df1_unique['tokenized'].apply(lambda x: remove_stopwords(x))\n",
    "df1_unique.head()"
   ]
  },
  {
   "cell_type": "markdown",
   "id": "cb6fb81f",
   "metadata": {},
   "source": [
    "#### Matching words with fuzzymatcher"
   ]
  },
  {
   "cell_type": "code",
   "execution_count": 35,
   "id": "bf21b65a",
   "metadata": {},
   "outputs": [],
   "source": [
    "# matching similar words\n",
    "matched = fuzzymatcher.fuzzy_left_join(df1_unique, df2_unique, left_on = \"text_nonstop\", right_on = \"name\", \n",
    "                             left_id_col=\"id\",\n",
    "                             right_id_col=\"id\")"
   ]
  },
  {
   "cell_type": "code",
   "execution_count": 36,
   "id": "8c2cf6f2",
   "metadata": {
    "scrolled": true
   },
   "outputs": [
    {
     "data": {
      "text/html": [
       "<div>\n",
       "<style scoped>\n",
       "    .dataframe tbody tr th:only-of-type {\n",
       "        vertical-align: middle;\n",
       "    }\n",
       "\n",
       "    .dataframe tbody tr th {\n",
       "        vertical-align: top;\n",
       "    }\n",
       "\n",
       "    .dataframe thead th {\n",
       "        text-align: right;\n",
       "    }\n",
       "</style>\n",
       "<table border=\"1\" class=\"dataframe\">\n",
       "  <thead>\n",
       "    <tr style=\"text-align: right;\">\n",
       "      <th></th>\n",
       "      <th>best_match_score</th>\n",
       "      <th>__id_left</th>\n",
       "      <th>__id_right</th>\n",
       "      <th>id_left</th>\n",
       "      <th>name_left</th>\n",
       "      <th>name_nonpunct</th>\n",
       "      <th>tokenized</th>\n",
       "      <th>text_nonstop</th>\n",
       "      <th>id_right</th>\n",
       "      <th>name_right</th>\n",
       "    </tr>\n",
       "  </thead>\n",
       "  <tbody>\n",
       "    <tr>\n",
       "      <th>0</th>\n",
       "      <td>-0.542132</td>\n",
       "      <td>0</td>\n",
       "      <td>29307.0</td>\n",
       "      <td>0</td>\n",
       "      <td>Horses, asses, mules and hinnies; live, pure-b...</td>\n",
       "      <td>Horses asses mules and hinnies live purebred b...</td>\n",
       "      <td>[horses, asses, mules, and, hinnies, live, pur...</td>\n",
       "      <td>horses asses mules hinnies live purebred breed...</td>\n",
       "      <td>29307.0</td>\n",
       "      <td>live mulches</td>\n",
       "    </tr>\n",
       "    <tr>\n",
       "      <th>81</th>\n",
       "      <td>-0.144357</td>\n",
       "      <td>1</td>\n",
       "      <td>27426.0</td>\n",
       "      <td>1</td>\n",
       "      <td>Horses; live, pure-bred breeding animals</td>\n",
       "      <td>Horses live purebred breeding animals</td>\n",
       "      <td>[horses, live, purebred, breeding, animals]</td>\n",
       "      <td>horses live purebred breeding animals</td>\n",
       "      <td>27426.0</td>\n",
       "      <td>animal breeding</td>\n",
       "    </tr>\n",
       "    <tr>\n",
       "      <th>160</th>\n",
       "      <td>-0.144357</td>\n",
       "      <td>2</td>\n",
       "      <td>27426.0</td>\n",
       "      <td>2</td>\n",
       "      <td>Horses; live, other than pure-bred breeding an...</td>\n",
       "      <td>Horses live other than purebred breeding animals</td>\n",
       "      <td>[horses, live, other, than, purebred, breeding...</td>\n",
       "      <td>horses live purebred breeding animals</td>\n",
       "      <td>27426.0</td>\n",
       "      <td>animal breeding</td>\n",
       "    </tr>\n",
       "  </tbody>\n",
       "</table>\n",
       "</div>"
      ],
      "text/plain": [
       "     best_match_score  __id_left  __id_right  id_left  \\\n",
       "0           -0.542132          0     29307.0        0   \n",
       "81          -0.144357          1     27426.0        1   \n",
       "160         -0.144357          2     27426.0        2   \n",
       "\n",
       "                                             name_left  \\\n",
       "0    Horses, asses, mules and hinnies; live, pure-b...   \n",
       "81            Horses; live, pure-bred breeding animals   \n",
       "160  Horses; live, other than pure-bred breeding an...   \n",
       "\n",
       "                                         name_nonpunct  \\\n",
       "0    Horses asses mules and hinnies live purebred b...   \n",
       "81               Horses live purebred breeding animals   \n",
       "160   Horses live other than purebred breeding animals   \n",
       "\n",
       "                                             tokenized  \\\n",
       "0    [horses, asses, mules, and, hinnies, live, pur...   \n",
       "81         [horses, live, purebred, breeding, animals]   \n",
       "160  [horses, live, other, than, purebred, breeding...   \n",
       "\n",
       "                                          text_nonstop  id_right  \\\n",
       "0    horses asses mules hinnies live purebred breed...   29307.0   \n",
       "81               horses live purebred breeding animals   27426.0   \n",
       "160              horses live purebred breeding animals   27426.0   \n",
       "\n",
       "          name_right  \n",
       "0       live mulches  \n",
       "81   animal breeding  \n",
       "160  animal breeding  "
      ]
     },
     "execution_count": 36,
     "metadata": {},
     "output_type": "execute_result"
    }
   ],
   "source": [
    "matched.head(3)"
   ]
  },
  {
   "cell_type": "code",
   "execution_count": 37,
   "id": "99b8ad52",
   "metadata": {},
   "outputs": [],
   "source": [
    "# sorting best_match_score by descending \n",
    "matched3 = matched.sort_values('best_match_score', ascending=False).groupby(['name_left','name_right'], sort=False).first().reset_index()"
   ]
  },
  {
   "cell_type": "code",
   "execution_count": 38,
   "id": "9566989d",
   "metadata": {},
   "outputs": [
    {
     "data": {
      "text/html": [
       "<div>\n",
       "<style scoped>\n",
       "    .dataframe tbody tr th:only-of-type {\n",
       "        vertical-align: middle;\n",
       "    }\n",
       "\n",
       "    .dataframe tbody tr th {\n",
       "        vertical-align: top;\n",
       "    }\n",
       "\n",
       "    .dataframe thead th {\n",
       "        text-align: right;\n",
       "    }\n",
       "</style>\n",
       "<table border=\"1\" class=\"dataframe\">\n",
       "  <thead>\n",
       "    <tr style=\"text-align: right;\">\n",
       "      <th></th>\n",
       "      <th>name_left</th>\n",
       "      <th>name_right</th>\n",
       "      <th>best_match_score</th>\n",
       "      <th>__id_left</th>\n",
       "      <th>__id_right</th>\n",
       "      <th>id_left</th>\n",
       "      <th>name_nonpunct</th>\n",
       "      <th>tokenized</th>\n",
       "      <th>text_nonstop</th>\n",
       "      <th>id_right</th>\n",
       "    </tr>\n",
       "  </thead>\n",
       "  <tbody>\n",
       "    <tr>\n",
       "      <th>0</th>\n",
       "      <td>Magnetic resonance imaging apparatus</td>\n",
       "      <td>magnetic resonance imaging</td>\n",
       "      <td>1.014215</td>\n",
       "      <td>11791</td>\n",
       "      <td>21243.0</td>\n",
       "      <td>11791</td>\n",
       "      <td>Magnetic resonance imaging apparatus</td>\n",
       "      <td>[magnetic, resonance, imaging, apparatus]</td>\n",
       "      <td>magnetic resonance imaging apparatus</td>\n",
       "      <td>21243.0</td>\n",
       "    </tr>\n",
       "    <tr>\n",
       "      <th>1</th>\n",
       "      <td>Sewage sludge</td>\n",
       "      <td>sewage sludge</td>\n",
       "      <td>0.827112</td>\n",
       "      <td>7007</td>\n",
       "      <td>41053.0</td>\n",
       "      <td>7007</td>\n",
       "      <td>Sewage sludge</td>\n",
       "      <td>[sewage, sludge]</td>\n",
       "      <td>sewage sludge</td>\n",
       "      <td>41053.0</td>\n",
       "    </tr>\n",
       "    <tr>\n",
       "      <th>2</th>\n",
       "      <td>Hydrogen peroxide</td>\n",
       "      <td>hydrogen peroxide</td>\n",
       "      <td>0.730148</td>\n",
       "      <td>3867</td>\n",
       "      <td>21739.0</td>\n",
       "      <td>3867</td>\n",
       "      <td>Hydrogen peroxide</td>\n",
       "      <td>[hydrogen, peroxide]</td>\n",
       "      <td>hydrogen peroxide</td>\n",
       "      <td>21739.0</td>\n",
       "    </tr>\n",
       "  </tbody>\n",
       "</table>\n",
       "</div>"
      ],
      "text/plain": [
       "                              name_left                  name_right  \\\n",
       "0  Magnetic resonance imaging apparatus  magnetic resonance imaging   \n",
       "1                         Sewage sludge               sewage sludge   \n",
       "2                     Hydrogen peroxide           hydrogen peroxide   \n",
       "\n",
       "   best_match_score  __id_left  __id_right  id_left  \\\n",
       "0          1.014215      11791     21243.0    11791   \n",
       "1          0.827112       7007     41053.0     7007   \n",
       "2          0.730148       3867     21739.0     3867   \n",
       "\n",
       "                          name_nonpunct  \\\n",
       "0  Magnetic resonance imaging apparatus   \n",
       "1                         Sewage sludge   \n",
       "2                     Hydrogen peroxide   \n",
       "\n",
       "                                   tokenized  \\\n",
       "0  [magnetic, resonance, imaging, apparatus]   \n",
       "1                           [sewage, sludge]   \n",
       "2                       [hydrogen, peroxide]   \n",
       "\n",
       "                           text_nonstop  id_right  \n",
       "0  magnetic resonance imaging apparatus   21243.0  \n",
       "1                         sewage sludge   41053.0  \n",
       "2                     hydrogen peroxide   21739.0  "
      ]
     },
     "execution_count": 38,
     "metadata": {},
     "output_type": "execute_result"
    }
   ],
   "source": [
    "matched3.head(3)"
   ]
  },
  {
   "cell_type": "code",
   "execution_count": 39,
   "id": "7473d7a9",
   "metadata": {},
   "outputs": [],
   "source": [
    "# columns = ['best_match_score', '__id_left', '__id_right', 'id_left', 'name_left',\n",
    "#        'name_nonpunct', 'tokenized', 'text_nonstop', 'id_right', 'name_right']"
   ]
  },
  {
   "cell_type": "code",
   "execution_count": 40,
   "id": "59f6d3f9",
   "metadata": {},
   "outputs": [],
   "source": [
    "# sorted_values = matched[columns].sort_values(by=['best_match_score'], ascending=False)"
   ]
  },
  {
   "cell_type": "code",
   "execution_count": 41,
   "id": "930ef35b",
   "metadata": {},
   "outputs": [],
   "source": [
    "# sorted_values.dropna(inplace = True)"
   ]
  },
  {
   "cell_type": "code",
   "execution_count": 42,
   "id": "04ca9d7b",
   "metadata": {},
   "outputs": [],
   "source": [
    "# sorted_values.tail(5)"
   ]
  },
  {
   "cell_type": "code",
   "execution_count": 43,
   "id": "dde8b4dd",
   "metadata": {},
   "outputs": [],
   "source": [
    "# sorted2 = sorted_values.drop_duplicates(subset = ['name_left'], keep='first')"
   ]
  },
  {
   "cell_type": "code",
   "execution_count": 57,
   "id": "beba5d50",
   "metadata": {},
   "outputs": [],
   "source": [
    "matched3 = matched3.drop_duplicates(subset = ['name_right'], keep='first')"
   ]
  },
  {
   "cell_type": "code",
   "execution_count": 58,
   "id": "457ab4e9",
   "metadata": {
    "scrolled": true
   },
   "outputs": [],
   "source": [
    "# sorted3.head(3)"
   ]
  },
  {
   "cell_type": "code",
   "execution_count": null,
   "id": "96de6385",
   "metadata": {
    "scrolled": true
   },
   "outputs": [],
   "source": []
  },
  {
   "cell_type": "code",
   "execution_count": 59,
   "id": "e42a90f7",
   "metadata": {},
   "outputs": [],
   "source": [
    "# convert id to int\n",
    "# sorted3['id_right'] = sorted3['id_right'].astype(int)"
   ]
  },
  {
   "cell_type": "code",
   "execution_count": 60,
   "id": "a584b097",
   "metadata": {},
   "outputs": [],
   "source": [
    "# sorted3['id_right'] = sorted3['id_right'].astype(int)"
   ]
  },
  {
   "cell_type": "code",
   "execution_count": 61,
   "id": "e46abadd",
   "metadata": {},
   "outputs": [],
   "source": [
    "# sorted3.info()"
   ]
  },
  {
   "cell_type": "code",
   "execution_count": 71,
   "id": "0349cd4f",
   "metadata": {},
   "outputs": [
    {
     "name": "stdout",
     "output_type": "stream",
     "text": [
      "0\n"
     ]
    }
   ],
   "source": [
    "print(matched3['id_right'].duplicated().sum())"
   ]
  },
  {
   "cell_type": "code",
   "execution_count": 63,
   "id": "b7e64332",
   "metadata": {},
   "outputs": [
    {
     "data": {
      "text/plain": [
       "(2399, 10)"
      ]
     },
     "execution_count": 63,
     "metadata": {},
     "output_type": "execute_result"
    }
   ],
   "source": [
    "matched3.shape"
   ]
  },
  {
   "cell_type": "code",
   "execution_count": 64,
   "id": "e5e84775",
   "metadata": {},
   "outputs": [],
   "source": [
    "# convert id from float to int\n",
    "matched3['id_right'] = matched3['id_right'].astype(int)\n",
    "\n",
    "# printing dataframe to csv\n",
    "predicted = matched3[['id_left', 'id_right']]\n",
    "# predicted.sort_values(by = ['id_left'], inplace = True)\n",
    "predicted = predicted.sort_values('id_left', ascending=True).groupby(['id_left','id_right'], sort=False).first().reset_index()\n",
    "\n",
    "# rename columns\n",
    "predicted.rename(columns = {'id_left':'source1', 'id_right':'source2'}, inplace = True)\n",
    "\n",
    "# create csv file\n",
    "predicted.to_csv('benefatia@gmail.com.csv', index = False)"
   ]
  },
  {
   "cell_type": "code",
   "execution_count": 65,
   "id": "e27c8446",
   "metadata": {},
   "outputs": [
    {
     "data": {
      "text/html": [
       "<div>\n",
       "<style scoped>\n",
       "    .dataframe tbody tr th:only-of-type {\n",
       "        vertical-align: middle;\n",
       "    }\n",
       "\n",
       "    .dataframe tbody tr th {\n",
       "        vertical-align: top;\n",
       "    }\n",
       "\n",
       "    .dataframe thead th {\n",
       "        text-align: right;\n",
       "    }\n",
       "</style>\n",
       "<table border=\"1\" class=\"dataframe\">\n",
       "  <thead>\n",
       "    <tr style=\"text-align: right;\">\n",
       "      <th></th>\n",
       "      <th>source1</th>\n",
       "      <th>source2</th>\n",
       "    </tr>\n",
       "  </thead>\n",
       "  <tbody>\n",
       "    <tr>\n",
       "      <th>0</th>\n",
       "      <td>3</td>\n",
       "      <td>29307</td>\n",
       "    </tr>\n",
       "    <tr>\n",
       "      <th>1</th>\n",
       "      <td>23</td>\n",
       "      <td>3889</td>\n",
       "    </tr>\n",
       "    <tr>\n",
       "      <th>2</th>\n",
       "      <td>24</td>\n",
       "      <td>39686</td>\n",
       "    </tr>\n",
       "    <tr>\n",
       "      <th>3</th>\n",
       "      <td>25</td>\n",
       "      <td>39057</td>\n",
       "    </tr>\n",
       "    <tr>\n",
       "      <th>4</th>\n",
       "      <td>26</td>\n",
       "      <td>37492</td>\n",
       "    </tr>\n",
       "    <tr>\n",
       "      <th>...</th>\n",
       "      <td>...</td>\n",
       "      <td>...</td>\n",
       "    </tr>\n",
       "    <tr>\n",
       "      <th>2394</th>\n",
       "      <td>13212</td>\n",
       "      <td>46327</td>\n",
       "    </tr>\n",
       "    <tr>\n",
       "      <th>2395</th>\n",
       "      <td>13216</td>\n",
       "      <td>8834</td>\n",
       "    </tr>\n",
       "    <tr>\n",
       "      <th>2396</th>\n",
       "      <td>13223</td>\n",
       "      <td>11391</td>\n",
       "    </tr>\n",
       "    <tr>\n",
       "      <th>2397</th>\n",
       "      <td>13230</td>\n",
       "      <td>44137</td>\n",
       "    </tr>\n",
       "    <tr>\n",
       "      <th>2398</th>\n",
       "      <td>13236</td>\n",
       "      <td>19648</td>\n",
       "    </tr>\n",
       "  </tbody>\n",
       "</table>\n",
       "<p>2399 rows × 2 columns</p>\n",
       "</div>"
      ],
      "text/plain": [
       "      source1  source2\n",
       "0           3    29307\n",
       "1          23     3889\n",
       "2          24    39686\n",
       "3          25    39057\n",
       "4          26    37492\n",
       "...       ...      ...\n",
       "2394    13212    46327\n",
       "2395    13216     8834\n",
       "2396    13223    11391\n",
       "2397    13230    44137\n",
       "2398    13236    19648\n",
       "\n",
       "[2399 rows x 2 columns]"
      ]
     },
     "execution_count": 65,
     "metadata": {},
     "output_type": "execute_result"
    }
   ],
   "source": [
    "predicted"
   ]
  },
  {
   "cell_type": "code",
   "execution_count": 66,
   "id": "b8ca7c66",
   "metadata": {
    "scrolled": true
   },
   "outputs": [
    {
     "data": {
      "text/plain": [
       "(2399, 2)"
      ]
     },
     "execution_count": 66,
     "metadata": {},
     "output_type": "execute_result"
    }
   ],
   "source": [
    "predicted.shape"
   ]
  },
  {
   "cell_type": "code",
   "execution_count": 67,
   "id": "4eb66a12",
   "metadata": {},
   "outputs": [
    {
     "data": {
      "text/html": [
       "<div>\n",
       "<style scoped>\n",
       "    .dataframe tbody tr th:only-of-type {\n",
       "        vertical-align: middle;\n",
       "    }\n",
       "\n",
       "    .dataframe tbody tr th {\n",
       "        vertical-align: top;\n",
       "    }\n",
       "\n",
       "    .dataframe thead th {\n",
       "        text-align: right;\n",
       "    }\n",
       "</style>\n",
       "<table border=\"1\" class=\"dataframe\">\n",
       "  <thead>\n",
       "    <tr style=\"text-align: right;\">\n",
       "      <th></th>\n",
       "      <th>source1</th>\n",
       "      <th>source2</th>\n",
       "    </tr>\n",
       "  </thead>\n",
       "  <tbody>\n",
       "    <tr>\n",
       "      <th>0</th>\n",
       "      <td>Magnetic resonance imaging apparatus</td>\n",
       "      <td>magnetic resonance imaging</td>\n",
       "    </tr>\n",
       "    <tr>\n",
       "      <th>1</th>\n",
       "      <td>Sewage sludge</td>\n",
       "      <td>sewage sludge</td>\n",
       "    </tr>\n",
       "    <tr>\n",
       "      <th>2</th>\n",
       "      <td>Hydrogen peroxide</td>\n",
       "      <td>hydrogen peroxide</td>\n",
       "    </tr>\n",
       "    <tr>\n",
       "      <th>3</th>\n",
       "      <td>Magnesium phosphide</td>\n",
       "      <td>magnesium phosphide</td>\n",
       "    </tr>\n",
       "    <tr>\n",
       "      <th>4</th>\n",
       "      <td>Milking machines</td>\n",
       "      <td>milking machines</td>\n",
       "    </tr>\n",
       "    <tr>\n",
       "      <th>...</th>\n",
       "      <td>...</td>\n",
       "      <td>...</td>\n",
       "    </tr>\n",
       "    <tr>\n",
       "      <th>10611</th>\n",
       "      <td>Coconut, abaca (Manila hemp or Musa textilis N...</td>\n",
       "      <td>musa textilis</td>\n",
       "    </tr>\n",
       "    <tr>\n",
       "      <th>10615</th>\n",
       "      <td>Food preparations; bakers' wares n.e.s. in hea...</td>\n",
       "      <td>pharmaceutical products</td>\n",
       "    </tr>\n",
       "    <tr>\n",
       "      <th>10617</th>\n",
       "      <td>Amêijoas, berbigões and arcas (families Arcida...</td>\n",
       "      <td>arcticidae</td>\n",
       "    </tr>\n",
       "    <tr>\n",
       "      <th>10623</th>\n",
       "      <td>Veículos de chassis articulado, p/ o transport...</td>\n",
       "      <td>p (symbol)</td>\n",
       "    </tr>\n",
       "    <tr>\n",
       "      <th>10624</th>\n",
       "      <td>Wood; okoume, obeche, sapelli, sipo, acajou d'...</td>\n",
       "      <td>obeche</td>\n",
       "    </tr>\n",
       "  </tbody>\n",
       "</table>\n",
       "<p>2399 rows × 2 columns</p>\n",
       "</div>"
      ],
      "text/plain": [
       "                                                 source1  \\\n",
       "0                   Magnetic resonance imaging apparatus   \n",
       "1                                          Sewage sludge   \n",
       "2                                      Hydrogen peroxide   \n",
       "3                                    Magnesium phosphide   \n",
       "4                                       Milking machines   \n",
       "...                                                  ...   \n",
       "10611  Coconut, abaca (Manila hemp or Musa textilis N...   \n",
       "10615  Food preparations; bakers' wares n.e.s. in hea...   \n",
       "10617  Amêijoas, berbigões and arcas (families Arcida...   \n",
       "10623  Veículos de chassis articulado, p/ o transport...   \n",
       "10624  Wood; okoume, obeche, sapelli, sipo, acajou d'...   \n",
       "\n",
       "                          source2  \n",
       "0      magnetic resonance imaging  \n",
       "1                   sewage sludge  \n",
       "2               hydrogen peroxide  \n",
       "3             magnesium phosphide  \n",
       "4                milking machines  \n",
       "...                           ...  \n",
       "10611               musa textilis  \n",
       "10615     pharmaceutical products  \n",
       "10617                  arcticidae  \n",
       "10623                  p (symbol)  \n",
       "10624                      obeche  \n",
       "\n",
       "[2399 rows x 2 columns]"
      ]
     },
     "execution_count": 67,
     "metadata": {},
     "output_type": "execute_result"
    }
   ],
   "source": [
    "# visualizaing the matched data from a dataframe\n",
    "matched_data = matched3[['name_left', 'name_right']]\n",
    "# rename columns\n",
    "matched_data.rename(columns = {'name_left':'source1', 'name_right':'source2'}, inplace = True)\n",
    "matched_data"
   ]
  },
  {
   "cell_type": "code",
   "execution_count": 68,
   "id": "9159b6aa",
   "metadata": {},
   "outputs": [
    {
     "data": {
      "text/html": [
       "<div>\n",
       "<style scoped>\n",
       "    .dataframe tbody tr th:only-of-type {\n",
       "        vertical-align: middle;\n",
       "    }\n",
       "\n",
       "    .dataframe tbody tr th {\n",
       "        vertical-align: top;\n",
       "    }\n",
       "\n",
       "    .dataframe thead th {\n",
       "        text-align: right;\n",
       "    }\n",
       "</style>\n",
       "<table border=\"1\" class=\"dataframe\">\n",
       "  <thead>\n",
       "    <tr style=\"text-align: right;\">\n",
       "      <th></th>\n",
       "      <th>source1</th>\n",
       "      <th>source2</th>\n",
       "    </tr>\n",
       "  </thead>\n",
       "  <tbody>\n",
       "    <tr>\n",
       "      <th>0</th>\n",
       "      <td>Magnetic resonance imaging apparatus</td>\n",
       "      <td>magnetic resonance imaging</td>\n",
       "    </tr>\n",
       "    <tr>\n",
       "      <th>1</th>\n",
       "      <td>Sewage sludge</td>\n",
       "      <td>sewage sludge</td>\n",
       "    </tr>\n",
       "    <tr>\n",
       "      <th>2</th>\n",
       "      <td>Hydrogen peroxide</td>\n",
       "      <td>hydrogen peroxide</td>\n",
       "    </tr>\n",
       "    <tr>\n",
       "      <th>3</th>\n",
       "      <td>Magnesium phosphide</td>\n",
       "      <td>magnesium phosphide</td>\n",
       "    </tr>\n",
       "    <tr>\n",
       "      <th>4</th>\n",
       "      <td>Milking machines</td>\n",
       "      <td>milking machines</td>\n",
       "    </tr>\n",
       "    <tr>\n",
       "      <th>...</th>\n",
       "      <td>...</td>\n",
       "      <td>...</td>\n",
       "    </tr>\n",
       "    <tr>\n",
       "      <th>10611</th>\n",
       "      <td>Coconut, abaca (Manila hemp or Musa textilis N...</td>\n",
       "      <td>musa textilis</td>\n",
       "    </tr>\n",
       "    <tr>\n",
       "      <th>10615</th>\n",
       "      <td>Food preparations; bakers' wares n.e.s. in hea...</td>\n",
       "      <td>pharmaceutical products</td>\n",
       "    </tr>\n",
       "    <tr>\n",
       "      <th>10617</th>\n",
       "      <td>Amêijoas, berbigões and arcas (families Arcida...</td>\n",
       "      <td>arcticidae</td>\n",
       "    </tr>\n",
       "    <tr>\n",
       "      <th>10623</th>\n",
       "      <td>Veículos de chassis articulado, p/ o transport...</td>\n",
       "      <td>p (symbol)</td>\n",
       "    </tr>\n",
       "    <tr>\n",
       "      <th>10624</th>\n",
       "      <td>Wood; okoume, obeche, sapelli, sipo, acajou d'...</td>\n",
       "      <td>obeche</td>\n",
       "    </tr>\n",
       "  </tbody>\n",
       "</table>\n",
       "<p>2399 rows × 2 columns</p>\n",
       "</div>"
      ],
      "text/plain": [
       "                                                 source1  \\\n",
       "0                   Magnetic resonance imaging apparatus   \n",
       "1                                          Sewage sludge   \n",
       "2                                      Hydrogen peroxide   \n",
       "3                                    Magnesium phosphide   \n",
       "4                                       Milking machines   \n",
       "...                                                  ...   \n",
       "10611  Coconut, abaca (Manila hemp or Musa textilis N...   \n",
       "10615  Food preparations; bakers' wares n.e.s. in hea...   \n",
       "10617  Amêijoas, berbigões and arcas (families Arcida...   \n",
       "10623  Veículos de chassis articulado, p/ o transport...   \n",
       "10624  Wood; okoume, obeche, sapelli, sipo, acajou d'...   \n",
       "\n",
       "                          source2  \n",
       "0      magnetic resonance imaging  \n",
       "1                   sewage sludge  \n",
       "2               hydrogen peroxide  \n",
       "3             magnesium phosphide  \n",
       "4                milking machines  \n",
       "...                           ...  \n",
       "10611               musa textilis  \n",
       "10615     pharmaceutical products  \n",
       "10617                  arcticidae  \n",
       "10623                  p (symbol)  \n",
       "10624                      obeche  \n",
       "\n",
       "[2399 rows x 2 columns]"
      ]
     },
     "execution_count": 68,
     "metadata": {},
     "output_type": "execute_result"
    }
   ],
   "source": [
    "matched_data"
   ]
  },
  {
   "cell_type": "code",
   "execution_count": 60,
   "id": "74a3526c",
   "metadata": {},
   "outputs": [],
   "source": [
    "# printing specific rows\n",
    "# print(source1.loc[[104]])\n",
    "# print(source2.loc[[204]])"
   ]
  },
  {
   "cell_type": "code",
   "execution_count": null,
   "id": "472b5eaf",
   "metadata": {},
   "outputs": [],
   "source": []
  }
 ],
 "metadata": {
  "kernelspec": {
   "display_name": "Python 3",
   "language": "python",
   "name": "python3"
  },
  "language_info": {
   "codemirror_mode": {
    "name": "ipython",
    "version": 3
   },
   "file_extension": ".py",
   "mimetype": "text/x-python",
   "name": "python",
   "nbconvert_exporter": "python",
   "pygments_lexer": "ipython3",
   "version": "3.6.9"
  }
 },
 "nbformat": 4,
 "nbformat_minor": 5
}
